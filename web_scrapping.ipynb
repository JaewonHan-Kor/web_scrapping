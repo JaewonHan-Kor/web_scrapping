{
 "cells": [
  {
   "cell_type": "code",
   "execution_count": 14,
   "id": "9a0a71ba",
   "metadata": {},
   "outputs": [
    {
     "name": "stdout",
     "output_type": "stream",
     "text": [
      "5.58\n",
      "1.75\n"
     ]
    }
   ],
   "source": [
    "import requests\n",
    "from bs4 import BeautifulSoup\n",
    "\n",
    "#per 반환\n",
    "def get_per(code):\n",
    "    url = \"https://finance.naver.com/item/main.nhn?code=\" + code\n",
    "    html = requests.get(url).text\n",
    "    \n",
    "    soup = BeautifulSoup(html, \"html5lib\")\n",
    "    tags = soup.select(\"#_per\")\n",
    "    tag = tags[0]\n",
    "    return float(tag.text)\n",
    "\n",
    "#배당 수익률 반환\n",
    "def get_dividend(code):\n",
    "    url = \"https://finance.naver.com/item/main.nhn?code=\" + code\n",
    "    html = requests.get(url).text\n",
    "    \n",
    "    soup = BeautifulSoup(html, \"html5lib\")\n",
    "    tags = soup.select(\"#_dvr\")\n",
    "    tag = tags[0]\n",
    "    return float(tag.text)\n",
    "\n",
    "print(get_per(\"000660\"))\n",
    "print(get_dividend(\"000660\"))"
   ]
  },
  {
   "cell_type": "code",
   "execution_count": null,
   "id": "cbb31dc7",
   "metadata": {},
   "outputs": [],
   "source": []
  }
 ],
 "metadata": {
  "kernelspec": {
   "display_name": "Python 3 (ipykernel)",
   "language": "python",
   "name": "python3"
  },
  "language_info": {
   "codemirror_mode": {
    "name": "ipython",
    "version": 3
   },
   "file_extension": ".py",
   "mimetype": "text/x-python",
   "name": "python",
   "nbconvert_exporter": "python",
   "pygments_lexer": "ipython3",
   "version": "3.9.7"
  }
 },
 "nbformat": 4,
 "nbformat_minor": 5
}
